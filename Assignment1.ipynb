{
 "cells": [
  {
   "cell_type": "code",
   "execution_count": 3,
   "id": "9038be36",
   "metadata": {},
   "outputs": [],
   "source": [
    "import cv2\n",
    "from PIL import Image\n",
    "import os\n",
    "from tqdm.notebook import tqdm\n",
    "import numpy as np\n",
    "from matplotlib import pyplot as plt\n",
    "from sklearn.model_selection import train_test_split\n",
    "from scipy.spatial.distance import cdist"
   ]
  },
  {
   "cell_type": "markdown",
   "id": "4da4cf37",
   "metadata": {},
   "source": [
    "Dataset and Preprocessing:"
   ]
  },
  {
   "cell_type": "code",
   "execution_count": 4,
   "id": "1812fb86",
   "metadata": {},
   "outputs": [
    {
     "data": {
      "application/vnd.jupyter.widget-view+json": {
       "model_id": "8f59f8ad66444131864b13124fc56d53",
       "version_major": 2,
       "version_minor": 0
      },
      "text/plain": [
       "  0%|          | 0/10 [00:00<?, ?it/s]"
      ]
     },
     "metadata": {},
     "output_type": "display_data"
    },
    {
     "data": {
      "application/vnd.jupyter.widget-view+json": {
       "model_id": "cf6d827cba8647348e2946cc59438fbc",
       "version_major": 2,
       "version_minor": 0
      },
      "text/plain": [
       "airplane:   0%|          | 0/5000 [00:00<?, ?it/s]"
      ]
     },
     "metadata": {},
     "output_type": "display_data"
    },
    {
     "data": {
      "application/vnd.jupyter.widget-view+json": {
       "model_id": "20cb31eade3c4d2d9c2578d80ee52783",
       "version_major": 2,
       "version_minor": 0
      },
      "text/plain": [
       "automobile:   0%|          | 0/5000 [00:00<?, ?it/s]"
      ]
     },
     "metadata": {},
     "output_type": "display_data"
    },
    {
     "data": {
      "application/vnd.jupyter.widget-view+json": {
       "model_id": "f2774ae8d18a477683475eb45a5c73f3",
       "version_major": 2,
       "version_minor": 0
      },
      "text/plain": [
       "bird:   0%|          | 0/5000 [00:00<?, ?it/s]"
      ]
     },
     "metadata": {},
     "output_type": "display_data"
    },
    {
     "data": {
      "application/vnd.jupyter.widget-view+json": {
       "model_id": "0182998ff9bf466fa24e9a4e958cf2ea",
       "version_major": 2,
       "version_minor": 0
      },
      "text/plain": [
       "cat:   0%|          | 0/5000 [00:00<?, ?it/s]"
      ]
     },
     "metadata": {},
     "output_type": "display_data"
    },
    {
     "data": {
      "application/vnd.jupyter.widget-view+json": {
       "model_id": "1179347fe549417781e19bfd2ac72a63",
       "version_major": 2,
       "version_minor": 0
      },
      "text/plain": [
       "deer:   0%|          | 0/5000 [00:00<?, ?it/s]"
      ]
     },
     "metadata": {},
     "output_type": "display_data"
    },
    {
     "data": {
      "application/vnd.jupyter.widget-view+json": {
       "model_id": "a29f481ead6142f8ae13f16a83556dcd",
       "version_major": 2,
       "version_minor": 0
      },
      "text/plain": [
       "dog:   0%|          | 0/5000 [00:00<?, ?it/s]"
      ]
     },
     "metadata": {},
     "output_type": "display_data"
    },
    {
     "data": {
      "application/vnd.jupyter.widget-view+json": {
       "model_id": "3317132f6dc0436d98d877b943f50a9e",
       "version_major": 2,
       "version_minor": 0
      },
      "text/plain": [
       "frog:   0%|          | 0/5000 [00:00<?, ?it/s]"
      ]
     },
     "metadata": {},
     "output_type": "display_data"
    },
    {
     "data": {
      "application/vnd.jupyter.widget-view+json": {
       "model_id": "5fb86b2173344335b41ffebdd1e0d0d2",
       "version_major": 2,
       "version_minor": 0
      },
      "text/plain": [
       "horse:   0%|          | 0/5000 [00:00<?, ?it/s]"
      ]
     },
     "metadata": {},
     "output_type": "display_data"
    },
    {
     "data": {
      "application/vnd.jupyter.widget-view+json": {
       "model_id": "577104d4aa89498890abacd4b6dc9cb8",
       "version_major": 2,
       "version_minor": 0
      },
      "text/plain": [
       "ship:   0%|          | 0/5000 [00:00<?, ?it/s]"
      ]
     },
     "metadata": {},
     "output_type": "display_data"
    },
    {
     "data": {
      "application/vnd.jupyter.widget-view+json": {
       "model_id": "73d7b652906746efb3896e2c8002f816",
       "version_major": 2,
       "version_minor": 0
      },
      "text/plain": [
       "truck:   0%|          | 0/5000 [00:00<?, ?it/s]"
      ]
     },
     "metadata": {},
     "output_type": "display_data"
    }
   ],
   "source": [
    "image_dir = 'CIFAR-10-images/train/'\n",
    "class_names = os.listdir(image_dir)\n",
    "\n",
    "data_x = []\n",
    "data_y = []\n",
    "\n",
    "for i in tqdm(range(len(class_names))):\n",
    "#     print(os.path.join(image_dir, class_names[i]))\n",
    "    for img_file in tqdm(os.listdir(os.path.join(image_dir, class_names[i])), desc=class_names[i]):\n",
    "#         print(os.path.join(image_dir, class_names[i]), img_file)\n",
    "        img = cv2.imread(os.path.join(image_dir, class_names[i], img_file))\n",
    "        img = cv2.resize(img, (32, 32))\n",
    "        img = cv2.cvtColor(img, cv2.COLOR_BGR2GRAY)\n",
    "        img = img/255.0\n",
    "        data_x.append(img)\n",
    "        data_y.append(i)\n",
    "data_x = np.array(data_x)\n",
    "data_y = np.array(data_y)"
   ]
  },
  {
   "cell_type": "markdown",
   "id": "29c60d63",
   "metadata": {},
   "source": [
    "Model Building and Evaluation:"
   ]
  },
  {
   "cell_type": "code",
   "execution_count": 5,
   "id": "470021df",
   "metadata": {},
   "outputs": [
    {
     "data": {
      "application/vnd.jupyter.widget-view+json": {
       "model_id": "4975e8ac20bf42a597186ef4e8b3c88b",
       "version_major": 2,
       "version_minor": 0
      },
      "text/plain": [
       "fold1:   0%|          | 0/6 [00:00<?, ?it/s]"
      ]
     },
     "metadata": {},
     "output_type": "display_data"
    },
    {
     "data": {
      "application/vnd.jupyter.widget-view+json": {
       "model_id": "e11d36746fdc4e049c3511f5c0a04408",
       "version_major": 2,
       "version_minor": 0
      },
      "text/plain": [
       "  0%|          | 0/10000 [00:00<?, ?it/s]"
      ]
     },
     "metadata": {},
     "output_type": "display_data"
    },
    {
     "data": {
      "application/vnd.jupyter.widget-view+json": {
       "model_id": "59dc7e6d196040cd9bcb5ca5cc1c0ece",
       "version_major": 2,
       "version_minor": 0
      },
      "text/plain": [
       "  0%|          | 0/10000 [00:00<?, ?it/s]"
      ]
     },
     "metadata": {},
     "output_type": "display_data"
    },
    {
     "data": {
      "application/vnd.jupyter.widget-view+json": {
       "model_id": "8aede40a32e44b4e85ae710ae7b09b11",
       "version_major": 2,
       "version_minor": 0
      },
      "text/plain": [
       "  0%|          | 0/10000 [00:00<?, ?it/s]"
      ]
     },
     "metadata": {},
     "output_type": "display_data"
    },
    {
     "data": {
      "application/vnd.jupyter.widget-view+json": {
       "model_id": "cca527853baf445a9229cdcffa609194",
       "version_major": 2,
       "version_minor": 0
      },
      "text/plain": [
       "  0%|          | 0/10000 [00:00<?, ?it/s]"
      ]
     },
     "metadata": {},
     "output_type": "display_data"
    },
    {
     "data": {
      "application/vnd.jupyter.widget-view+json": {
       "model_id": "f9a7c41a824e4408b7bf8d1a17ad2e71",
       "version_major": 2,
       "version_minor": 0
      },
      "text/plain": [
       "  0%|          | 0/10000 [00:00<?, ?it/s]"
      ]
     },
     "metadata": {},
     "output_type": "display_data"
    },
    {
     "data": {
      "application/vnd.jupyter.widget-view+json": {
       "model_id": "0eb0d2ffccb24164800a8c70b19d5e2e",
       "version_major": 2,
       "version_minor": 0
      },
      "text/plain": [
       "  0%|          | 0/10000 [00:00<?, ?it/s]"
      ]
     },
     "metadata": {},
     "output_type": "display_data"
    },
    {
     "data": {
      "application/vnd.jupyter.widget-view+json": {
       "model_id": "160ea8c8fa0241b2a8f65509d4c84cd7",
       "version_major": 2,
       "version_minor": 0
      },
      "text/plain": [
       "fold2:   0%|          | 0/6 [00:00<?, ?it/s]"
      ]
     },
     "metadata": {},
     "output_type": "display_data"
    },
    {
     "data": {
      "application/vnd.jupyter.widget-view+json": {
       "model_id": "60656f9152554e3ab7fef031df2f64bc",
       "version_major": 2,
       "version_minor": 0
      },
      "text/plain": [
       "  0%|          | 0/10000 [00:00<?, ?it/s]"
      ]
     },
     "metadata": {},
     "output_type": "display_data"
    },
    {
     "data": {
      "application/vnd.jupyter.widget-view+json": {
       "model_id": "7ec74fe73dc64f8e89fee4d6296e9baf",
       "version_major": 2,
       "version_minor": 0
      },
      "text/plain": [
       "  0%|          | 0/10000 [00:00<?, ?it/s]"
      ]
     },
     "metadata": {},
     "output_type": "display_data"
    },
    {
     "data": {
      "application/vnd.jupyter.widget-view+json": {
       "model_id": "ba94463aab3f4a78915ed62d0d7a6794",
       "version_major": 2,
       "version_minor": 0
      },
      "text/plain": [
       "  0%|          | 0/10000 [00:00<?, ?it/s]"
      ]
     },
     "metadata": {},
     "output_type": "display_data"
    },
    {
     "data": {
      "application/vnd.jupyter.widget-view+json": {
       "model_id": "fb77d1b87254485ba18bafb177bc4c1a",
       "version_major": 2,
       "version_minor": 0
      },
      "text/plain": [
       "  0%|          | 0/10000 [00:00<?, ?it/s]"
      ]
     },
     "metadata": {},
     "output_type": "display_data"
    },
    {
     "data": {
      "application/vnd.jupyter.widget-view+json": {
       "model_id": "c6a5a01248ae48c4b8b5952907b4234f",
       "version_major": 2,
       "version_minor": 0
      },
      "text/plain": [
       "  0%|          | 0/10000 [00:00<?, ?it/s]"
      ]
     },
     "metadata": {},
     "output_type": "display_data"
    },
    {
     "data": {
      "application/vnd.jupyter.widget-view+json": {
       "model_id": "457bf1f34d724274b9d994fb5406d9aa",
       "version_major": 2,
       "version_minor": 0
      },
      "text/plain": [
       "  0%|          | 0/10000 [00:00<?, ?it/s]"
      ]
     },
     "metadata": {},
     "output_type": "display_data"
    },
    {
     "data": {
      "application/vnd.jupyter.widget-view+json": {
       "model_id": "970f893de39948789323b0e6b0b3ef27",
       "version_major": 2,
       "version_minor": 0
      },
      "text/plain": [
       "fold3:   0%|          | 0/6 [00:00<?, ?it/s]"
      ]
     },
     "metadata": {},
     "output_type": "display_data"
    },
    {
     "data": {
      "application/vnd.jupyter.widget-view+json": {
       "model_id": "f1a5cb04022f4e819bb91e2ffd472b1c",
       "version_major": 2,
       "version_minor": 0
      },
      "text/plain": [
       "  0%|          | 0/10000 [00:00<?, ?it/s]"
      ]
     },
     "metadata": {},
     "output_type": "display_data"
    },
    {
     "data": {
      "application/vnd.jupyter.widget-view+json": {
       "model_id": "af16e2f89f23427bbf7d178a64945445",
       "version_major": 2,
       "version_minor": 0
      },
      "text/plain": [
       "  0%|          | 0/10000 [00:00<?, ?it/s]"
      ]
     },
     "metadata": {},
     "output_type": "display_data"
    },
    {
     "data": {
      "application/vnd.jupyter.widget-view+json": {
       "model_id": "ecaa4dc41d844235860ca4604bdbc1c1",
       "version_major": 2,
       "version_minor": 0
      },
      "text/plain": [
       "  0%|          | 0/10000 [00:00<?, ?it/s]"
      ]
     },
     "metadata": {},
     "output_type": "display_data"
    },
    {
     "data": {
      "application/vnd.jupyter.widget-view+json": {
       "model_id": "4b3da80cf3394ee38768fdfc4157e54a",
       "version_major": 2,
       "version_minor": 0
      },
      "text/plain": [
       "  0%|          | 0/10000 [00:00<?, ?it/s]"
      ]
     },
     "metadata": {},
     "output_type": "display_data"
    },
    {
     "data": {
      "application/vnd.jupyter.widget-view+json": {
       "model_id": "edb178c31793472e92a088aa5aeee53b",
       "version_major": 2,
       "version_minor": 0
      },
      "text/plain": [
       "  0%|          | 0/10000 [00:00<?, ?it/s]"
      ]
     },
     "metadata": {},
     "output_type": "display_data"
    },
    {
     "data": {
      "application/vnd.jupyter.widget-view+json": {
       "model_id": "9d1d29343de844bcbe03bf2612e621e1",
       "version_major": 2,
       "version_minor": 0
      },
      "text/plain": [
       "  0%|          | 0/10000 [00:00<?, ?it/s]"
      ]
     },
     "metadata": {},
     "output_type": "display_data"
    },
    {
     "data": {
      "application/vnd.jupyter.widget-view+json": {
       "model_id": "2d30cc17c93e44c69924e743e2f205b7",
       "version_major": 2,
       "version_minor": 0
      },
      "text/plain": [
       "fold4:   0%|          | 0/6 [00:00<?, ?it/s]"
      ]
     },
     "metadata": {},
     "output_type": "display_data"
    },
    {
     "data": {
      "application/vnd.jupyter.widget-view+json": {
       "model_id": "0a8c3542ac1c4a0da9e988a44ee477d6",
       "version_major": 2,
       "version_minor": 0
      },
      "text/plain": [
       "  0%|          | 0/10000 [00:00<?, ?it/s]"
      ]
     },
     "metadata": {},
     "output_type": "display_data"
    },
    {
     "data": {
      "application/vnd.jupyter.widget-view+json": {
       "model_id": "8dccb8ba824743aba5411d367a3194ed",
       "version_major": 2,
       "version_minor": 0
      },
      "text/plain": [
       "  0%|          | 0/10000 [00:00<?, ?it/s]"
      ]
     },
     "metadata": {},
     "output_type": "display_data"
    },
    {
     "data": {
      "application/vnd.jupyter.widget-view+json": {
       "model_id": "9567a023458f42a3baf18c674f69aeb7",
       "version_major": 2,
       "version_minor": 0
      },
      "text/plain": [
       "  0%|          | 0/10000 [00:00<?, ?it/s]"
      ]
     },
     "metadata": {},
     "output_type": "display_data"
    },
    {
     "data": {
      "application/vnd.jupyter.widget-view+json": {
       "model_id": "1e6b78d25dd44abda9f2b7c0ca339322",
       "version_major": 2,
       "version_minor": 0
      },
      "text/plain": [
       "  0%|          | 0/10000 [00:00<?, ?it/s]"
      ]
     },
     "metadata": {},
     "output_type": "display_data"
    },
    {
     "data": {
      "application/vnd.jupyter.widget-view+json": {
       "model_id": "176c8954bdd9411d827749562c69dfb1",
       "version_major": 2,
       "version_minor": 0
      },
      "text/plain": [
       "  0%|          | 0/10000 [00:00<?, ?it/s]"
      ]
     },
     "metadata": {},
     "output_type": "display_data"
    },
    {
     "data": {
      "application/vnd.jupyter.widget-view+json": {
       "model_id": "e2d29a91faff4dcfa62c320b99871b60",
       "version_major": 2,
       "version_minor": 0
      },
      "text/plain": [
       "  0%|          | 0/10000 [00:00<?, ?it/s]"
      ]
     },
     "metadata": {},
     "output_type": "display_data"
    },
    {
     "data": {
      "application/vnd.jupyter.widget-view+json": {
       "model_id": "450f194564ee42c1b7d0b086a81ceab4",
       "version_major": 2,
       "version_minor": 0
      },
      "text/plain": [
       "fold5:   0%|          | 0/6 [00:00<?, ?it/s]"
      ]
     },
     "metadata": {},
     "output_type": "display_data"
    },
    {
     "data": {
      "application/vnd.jupyter.widget-view+json": {
       "model_id": "f6b5b69ec6274babbe1471738060e597",
       "version_major": 2,
       "version_minor": 0
      },
      "text/plain": [
       "  0%|          | 0/10000 [00:00<?, ?it/s]"
      ]
     },
     "metadata": {},
     "output_type": "display_data"
    },
    {
     "data": {
      "application/vnd.jupyter.widget-view+json": {
       "model_id": "a796fd94234d490ea60ec89621f57116",
       "version_major": 2,
       "version_minor": 0
      },
      "text/plain": [
       "  0%|          | 0/10000 [00:00<?, ?it/s]"
      ]
     },
     "metadata": {},
     "output_type": "display_data"
    },
    {
     "data": {
      "application/vnd.jupyter.widget-view+json": {
       "model_id": "3327a580b9cd47ae89c985fb48725a71",
       "version_major": 2,
       "version_minor": 0
      },
      "text/plain": [
       "  0%|          | 0/10000 [00:00<?, ?it/s]"
      ]
     },
     "metadata": {},
     "output_type": "display_data"
    },
    {
     "data": {
      "application/vnd.jupyter.widget-view+json": {
       "model_id": "874a48a7a82f4fe7ba925adce66559fe",
       "version_major": 2,
       "version_minor": 0
      },
      "text/plain": [
       "  0%|          | 0/10000 [00:00<?, ?it/s]"
      ]
     },
     "metadata": {},
     "output_type": "display_data"
    },
    {
     "data": {
      "application/vnd.jupyter.widget-view+json": {
       "model_id": "becb15f0e430490bba86d862e9715af3",
       "version_major": 2,
       "version_minor": 0
      },
      "text/plain": [
       "  0%|          | 0/10000 [00:00<?, ?it/s]"
      ]
     },
     "metadata": {},
     "output_type": "display_data"
    },
    {
     "data": {
      "application/vnd.jupyter.widget-view+json": {
       "model_id": "2fcfd57d238b4d498888b8bad2b9c2b5",
       "version_major": 2,
       "version_minor": 0
      },
      "text/plain": [
       "  0%|          | 0/10000 [00:00<?, ?it/s]"
      ]
     },
     "metadata": {},
     "output_type": "display_data"
    }
   ],
   "source": [
    "def get_result(distances, k=5):\n",
    "    counter = {}\n",
    "    for dist, label in distances[:k]:\n",
    "        try:\n",
    "            counter[label] = [counter[label][0] + 1, min(counter[label][1],dist)]\n",
    "        except:\n",
    "            counter[label] = [1, dist]\n",
    "    \n",
    "    results = []\n",
    "    for key, val in counter.items():\n",
    "        results.append([val[0], 10000 - val[1], key])\n",
    "    results = sorted(results, reverse=True)\n",
    "    return results[0][2]\n",
    "        \n",
    "\n",
    "    \n",
    "k_values = [1, 3, 5, 7, 10, 15]\n",
    "accuracy_dict = {}\n",
    "for k in k_values:\n",
    "    accuracy_dict[k] = 0\n",
    "    \n",
    "for i in range(5):\n",
    "    train_x, test_x, train_y, test_y = train_test_split(data_x, data_y, test_size=0.2)\n",
    "    train_x = np.reshape(train_x, (train_x.shape[0], train_x.shape[1]*train_x.shape[2]))\n",
    "    test_x = np.reshape(test_x, (test_x.shape[0], test_x.shape[1]*test_x.shape[2]))\n",
    "    \n",
    "#     print(train_x.shape, test_x.shape)\n",
    "    for k in tqdm(k_values, desc=f\"fold{i+1}\"):\n",
    "        total, correct = 0, 0\n",
    "        for index, test_img in tqdm(enumerate(test_x), total=test_x.shape[0]):\n",
    "            test_img = np.expand_dims(test_img, 0)\n",
    "    #         print(test_img.shape)\n",
    "            distances = cdist(test_img, train_x, metric='cityblock')[0]\n",
    "            results = []\n",
    "            for i in range(len(distances)):\n",
    "                results.append([distances[i], train_y[i]])\n",
    "            results = sorted(results)\n",
    "            pred = get_result(results, k=k)\n",
    "            total += 1\n",
    "            if test_y[index] == pred:\n",
    "                correct += 1\n",
    "    \n",
    "        accuracy = (correct * 100)/total\n",
    "        accuracy_dict[k] = accuracy_dict[k]+accuracy"
   ]
  },
  {
   "cell_type": "code",
   "execution_count": 6,
   "id": "0eaa09e1",
   "metadata": {
    "scrolled": true
   },
   "outputs": [
    {
     "name": "stdout",
     "output_type": "stream",
     "text": [
      "K=1, Accuracy: 32.0%\n",
      "K=3, Accuracy: 32.12%\n",
      "K=5, Accuracy: 32.17%\n",
      "K=7, Accuracy: 32.43%\n",
      "K=10, Accuracy: 32.4%\n",
      "K=15, Accuracy: 31.95%\n"
     ]
    }
   ],
   "source": [
    "for k in k_values:\n",
    "    accuracy_dict[k] = round(accuracy_dict[k]/5.0, 2)\n",
    "    print(f\"K={k}, Accuracy: {accuracy_dict[k]}%\")"
   ]
  },
  {
   "cell_type": "code",
   "execution_count": 7,
   "id": "40a77fbb",
   "metadata": {},
   "outputs": [
    {
     "data": {
      "application/vnd.jupyter.widget-view+json": {
       "model_id": "5d686f5705064c7bbbf1216156695923",
       "version_major": 2,
       "version_minor": 0
      },
      "text/plain": [
       "fold1:   0%|          | 0/6 [00:00<?, ?it/s]"
      ]
     },
     "metadata": {},
     "output_type": "display_data"
    },
    {
     "data": {
      "application/vnd.jupyter.widget-view+json": {
       "model_id": "fb4c4154ab6748899ba2bf70f83c3b92",
       "version_major": 2,
       "version_minor": 0
      },
      "text/plain": [
       "  0%|          | 0/10000 [00:00<?, ?it/s]"
      ]
     },
     "metadata": {},
     "output_type": "display_data"
    },
    {
     "data": {
      "application/vnd.jupyter.widget-view+json": {
       "model_id": "2ebb7cfb7555466eb1fad3879bd56671",
       "version_major": 2,
       "version_minor": 0
      },
      "text/plain": [
       "  0%|          | 0/10000 [00:00<?, ?it/s]"
      ]
     },
     "metadata": {},
     "output_type": "display_data"
    },
    {
     "data": {
      "application/vnd.jupyter.widget-view+json": {
       "model_id": "5ef19e3f772946be8106e38e41422875",
       "version_major": 2,
       "version_minor": 0
      },
      "text/plain": [
       "  0%|          | 0/10000 [00:00<?, ?it/s]"
      ]
     },
     "metadata": {},
     "output_type": "display_data"
    },
    {
     "data": {
      "application/vnd.jupyter.widget-view+json": {
       "model_id": "ba26663cac9f4300806c050bc23c5d09",
       "version_major": 2,
       "version_minor": 0
      },
      "text/plain": [
       "  0%|          | 0/10000 [00:00<?, ?it/s]"
      ]
     },
     "metadata": {},
     "output_type": "display_data"
    },
    {
     "data": {
      "application/vnd.jupyter.widget-view+json": {
       "model_id": "1bd24b826c0848fea93269a634f67560",
       "version_major": 2,
       "version_minor": 0
      },
      "text/plain": [
       "  0%|          | 0/10000 [00:00<?, ?it/s]"
      ]
     },
     "metadata": {},
     "output_type": "display_data"
    },
    {
     "data": {
      "application/vnd.jupyter.widget-view+json": {
       "model_id": "c4720aa78f9745aaace3ca811b6a5a0e",
       "version_major": 2,
       "version_minor": 0
      },
      "text/plain": [
       "  0%|          | 0/10000 [00:00<?, ?it/s]"
      ]
     },
     "metadata": {},
     "output_type": "display_data"
    },
    {
     "data": {
      "application/vnd.jupyter.widget-view+json": {
       "model_id": "35082557af694715aabaa166ffbbcd45",
       "version_major": 2,
       "version_minor": 0
      },
      "text/plain": [
       "fold2:   0%|          | 0/6 [00:00<?, ?it/s]"
      ]
     },
     "metadata": {},
     "output_type": "display_data"
    },
    {
     "data": {
      "application/vnd.jupyter.widget-view+json": {
       "model_id": "adb50a86e29c430c9c6cd3e95da3f3a4",
       "version_major": 2,
       "version_minor": 0
      },
      "text/plain": [
       "  0%|          | 0/10000 [00:00<?, ?it/s]"
      ]
     },
     "metadata": {},
     "output_type": "display_data"
    },
    {
     "data": {
      "application/vnd.jupyter.widget-view+json": {
       "model_id": "19ba9119949c4245acef37f3ca87e6d8",
       "version_major": 2,
       "version_minor": 0
      },
      "text/plain": [
       "  0%|          | 0/10000 [00:00<?, ?it/s]"
      ]
     },
     "metadata": {},
     "output_type": "display_data"
    },
    {
     "data": {
      "application/vnd.jupyter.widget-view+json": {
       "model_id": "e46ece3bcb94459b83d3bd09ab17e34e",
       "version_major": 2,
       "version_minor": 0
      },
      "text/plain": [
       "  0%|          | 0/10000 [00:00<?, ?it/s]"
      ]
     },
     "metadata": {},
     "output_type": "display_data"
    },
    {
     "data": {
      "application/vnd.jupyter.widget-view+json": {
       "model_id": "8b5c882fe6894dbc95023ba32561d430",
       "version_major": 2,
       "version_minor": 0
      },
      "text/plain": [
       "  0%|          | 0/10000 [00:00<?, ?it/s]"
      ]
     },
     "metadata": {},
     "output_type": "display_data"
    },
    {
     "data": {
      "application/vnd.jupyter.widget-view+json": {
       "model_id": "912943c0ab43481089e0e39479459a3c",
       "version_major": 2,
       "version_minor": 0
      },
      "text/plain": [
       "  0%|          | 0/10000 [00:00<?, ?it/s]"
      ]
     },
     "metadata": {},
     "output_type": "display_data"
    },
    {
     "data": {
      "application/vnd.jupyter.widget-view+json": {
       "model_id": "59e18220c08e4544852524cb32532a87",
       "version_major": 2,
       "version_minor": 0
      },
      "text/plain": [
       "  0%|          | 0/10000 [00:00<?, ?it/s]"
      ]
     },
     "metadata": {},
     "output_type": "display_data"
    },
    {
     "data": {
      "application/vnd.jupyter.widget-view+json": {
       "model_id": "944f0e1ac9fa44aca366e55f94b097b9",
       "version_major": 2,
       "version_minor": 0
      },
      "text/plain": [
       "fold3:   0%|          | 0/6 [00:00<?, ?it/s]"
      ]
     },
     "metadata": {},
     "output_type": "display_data"
    },
    {
     "data": {
      "application/vnd.jupyter.widget-view+json": {
       "model_id": "df67ec5c5b2842c89d963bc950324264",
       "version_major": 2,
       "version_minor": 0
      },
      "text/plain": [
       "  0%|          | 0/10000 [00:00<?, ?it/s]"
      ]
     },
     "metadata": {},
     "output_type": "display_data"
    },
    {
     "data": {
      "application/vnd.jupyter.widget-view+json": {
       "model_id": "af14d8f10e564a1aa947e12414d35729",
       "version_major": 2,
       "version_minor": 0
      },
      "text/plain": [
       "  0%|          | 0/10000 [00:00<?, ?it/s]"
      ]
     },
     "metadata": {},
     "output_type": "display_data"
    },
    {
     "data": {
      "application/vnd.jupyter.widget-view+json": {
       "model_id": "053b11a37daa4ae7b46b645dcdd85994",
       "version_major": 2,
       "version_minor": 0
      },
      "text/plain": [
       "  0%|          | 0/10000 [00:00<?, ?it/s]"
      ]
     },
     "metadata": {},
     "output_type": "display_data"
    },
    {
     "data": {
      "application/vnd.jupyter.widget-view+json": {
       "model_id": "96271ba0ad2c4aa290734e184dd142ff",
       "version_major": 2,
       "version_minor": 0
      },
      "text/plain": [
       "  0%|          | 0/10000 [00:00<?, ?it/s]"
      ]
     },
     "metadata": {},
     "output_type": "display_data"
    },
    {
     "data": {
      "application/vnd.jupyter.widget-view+json": {
       "model_id": "37699c913974453189d4ee2bc4cb42f8",
       "version_major": 2,
       "version_minor": 0
      },
      "text/plain": [
       "  0%|          | 0/10000 [00:00<?, ?it/s]"
      ]
     },
     "metadata": {},
     "output_type": "display_data"
    },
    {
     "data": {
      "application/vnd.jupyter.widget-view+json": {
       "model_id": "73e0a022f186415fb16a50fb5848db18",
       "version_major": 2,
       "version_minor": 0
      },
      "text/plain": [
       "  0%|          | 0/10000 [00:00<?, ?it/s]"
      ]
     },
     "metadata": {},
     "output_type": "display_data"
    },
    {
     "data": {
      "application/vnd.jupyter.widget-view+json": {
       "model_id": "3b1556b7200c4f1d8f7c9cb9e33441cd",
       "version_major": 2,
       "version_minor": 0
      },
      "text/plain": [
       "fold4:   0%|          | 0/6 [00:00<?, ?it/s]"
      ]
     },
     "metadata": {},
     "output_type": "display_data"
    },
    {
     "data": {
      "application/vnd.jupyter.widget-view+json": {
       "model_id": "d05a257cefa64c31bddac37331d6ce0c",
       "version_major": 2,
       "version_minor": 0
      },
      "text/plain": [
       "  0%|          | 0/10000 [00:00<?, ?it/s]"
      ]
     },
     "metadata": {},
     "output_type": "display_data"
    },
    {
     "data": {
      "application/vnd.jupyter.widget-view+json": {
       "model_id": "789b26d7cdfe40b0833b3b33366a5e63",
       "version_major": 2,
       "version_minor": 0
      },
      "text/plain": [
       "  0%|          | 0/10000 [00:00<?, ?it/s]"
      ]
     },
     "metadata": {},
     "output_type": "display_data"
    },
    {
     "data": {
      "application/vnd.jupyter.widget-view+json": {
       "model_id": "931ed23a0bf14908b9aaf1dac40081ed",
       "version_major": 2,
       "version_minor": 0
      },
      "text/plain": [
       "  0%|          | 0/10000 [00:00<?, ?it/s]"
      ]
     },
     "metadata": {},
     "output_type": "display_data"
    },
    {
     "data": {
      "application/vnd.jupyter.widget-view+json": {
       "model_id": "2be5b9c37ed9461fa5f47078dfd13e31",
       "version_major": 2,
       "version_minor": 0
      },
      "text/plain": [
       "  0%|          | 0/10000 [00:00<?, ?it/s]"
      ]
     },
     "metadata": {},
     "output_type": "display_data"
    },
    {
     "data": {
      "application/vnd.jupyter.widget-view+json": {
       "model_id": "5a8b49aa6a43426b85227395cacc1b28",
       "version_major": 2,
       "version_minor": 0
      },
      "text/plain": [
       "  0%|          | 0/10000 [00:00<?, ?it/s]"
      ]
     },
     "metadata": {},
     "output_type": "display_data"
    },
    {
     "data": {
      "application/vnd.jupyter.widget-view+json": {
       "model_id": "db0fe647a11c49e98b4c8a49f55c54cc",
       "version_major": 2,
       "version_minor": 0
      },
      "text/plain": [
       "  0%|          | 0/10000 [00:00<?, ?it/s]"
      ]
     },
     "metadata": {},
     "output_type": "display_data"
    },
    {
     "data": {
      "application/vnd.jupyter.widget-view+json": {
       "model_id": "b8aae2d4d75c4d7a84a93493bd2c1a15",
       "version_major": 2,
       "version_minor": 0
      },
      "text/plain": [
       "fold5:   0%|          | 0/6 [00:00<?, ?it/s]"
      ]
     },
     "metadata": {},
     "output_type": "display_data"
    },
    {
     "data": {
      "application/vnd.jupyter.widget-view+json": {
       "model_id": "831e5d1c11394265bcdb8dadfe2024c7",
       "version_major": 2,
       "version_minor": 0
      },
      "text/plain": [
       "  0%|          | 0/10000 [00:00<?, ?it/s]"
      ]
     },
     "metadata": {},
     "output_type": "display_data"
    },
    {
     "data": {
      "application/vnd.jupyter.widget-view+json": {
       "model_id": "c1dd85b28cbf4420b0074cb20f0afad2",
       "version_major": 2,
       "version_minor": 0
      },
      "text/plain": [
       "  0%|          | 0/10000 [00:00<?, ?it/s]"
      ]
     },
     "metadata": {},
     "output_type": "display_data"
    },
    {
     "data": {
      "application/vnd.jupyter.widget-view+json": {
       "model_id": "1153390492114fd5b9c190317babbded",
       "version_major": 2,
       "version_minor": 0
      },
      "text/plain": [
       "  0%|          | 0/10000 [00:00<?, ?it/s]"
      ]
     },
     "metadata": {},
     "output_type": "display_data"
    },
    {
     "data": {
      "application/vnd.jupyter.widget-view+json": {
       "model_id": "d7dfabe224894b53ad73f74650da7b14",
       "version_major": 2,
       "version_minor": 0
      },
      "text/plain": [
       "  0%|          | 0/10000 [00:00<?, ?it/s]"
      ]
     },
     "metadata": {},
     "output_type": "display_data"
    },
    {
     "data": {
      "application/vnd.jupyter.widget-view+json": {
       "model_id": "5e1d7d0d12a943b9afe4d70a133e28b3",
       "version_major": 2,
       "version_minor": 0
      },
      "text/plain": [
       "  0%|          | 0/10000 [00:00<?, ?it/s]"
      ]
     },
     "metadata": {},
     "output_type": "display_data"
    },
    {
     "data": {
      "application/vnd.jupyter.widget-view+json": {
       "model_id": "e64aff6d30d9472b93cde0cd87cab57e",
       "version_major": 2,
       "version_minor": 0
      },
      "text/plain": [
       "  0%|          | 0/10000 [00:00<?, ?it/s]"
      ]
     },
     "metadata": {},
     "output_type": "display_data"
    }
   ],
   "source": [
    "accuracy_dict_eu = {}\n",
    "for k in k_values:\n",
    "    accuracy_dict_eu[k] = 0\n",
    "    \n",
    "for i in range(5):\n",
    "    train_x, test_x, train_y, test_y = train_test_split(data_x, data_y, test_size=0.2)\n",
    "    train_x = np.reshape(train_x, (train_x.shape[0], train_x.shape[1]*train_x.shape[2]))\n",
    "    test_x = np.reshape(test_x, (test_x.shape[0], test_x.shape[1]*test_x.shape[2]))\n",
    "    \n",
    "#     print(train_x.shape, test_x.shape)\n",
    "    for k in tqdm(k_values, desc=f\"fold{i+1}\"):\n",
    "        total, correct = 0, 0\n",
    "        for index, test_img in tqdm(enumerate(test_x), total=test_x.shape[0]):\n",
    "            test_img = np.expand_dims(test_img, 0)\n",
    "    #         print(test_img.shape)\n",
    "            distances = cdist(test_img, train_x, metric='euclidean')[0]\n",
    "            results = []\n",
    "            for i in range(len(distances)):\n",
    "                results.append([distances[i], train_y[i]])\n",
    "            results = sorted(results)\n",
    "            pred = get_result(results, k=k)\n",
    "            total += 1\n",
    "            if test_y[index] == pred:\n",
    "                correct += 1\n",
    "    \n",
    "        accuracy = (correct * 100)/total\n",
    "        accuracy_dict_eu[k] = accuracy_dict_eu[k]+accuracy"
   ]
  },
  {
   "cell_type": "code",
   "execution_count": 8,
   "id": "ac92ed4a",
   "metadata": {},
   "outputs": [
    {
     "name": "stdout",
     "output_type": "stream",
     "text": [
      "K=1, Accuracy for L2: 29.17%\n",
      "K=3, Accuracy for L2: 29.46%\n",
      "K=5, Accuracy for L2: 29.45%\n",
      "K=7, Accuracy for L2: 29.43%\n",
      "K=10, Accuracy for L2: 29.22%\n",
      "K=15, Accuracy for L2: 28.82%\n"
     ]
    }
   ],
   "source": [
    "for k in k_values:\n",
    "    accuracy_dict_eu[k] = round(accuracy_dict_eu[k]/5.0, 2)\n",
    "    print(f\"K={k}, Accuracy for L2: {accuracy_dict_eu[k]}%\")"
   ]
  },
  {
   "cell_type": "markdown",
   "id": "4b4da4e9",
   "metadata": {},
   "source": [
    "Results and Analysis:"
   ]
  },
  {
   "cell_type": "code",
   "execution_count": 24,
   "id": "f6f87d99",
   "metadata": {},
   "outputs": [
    {
     "data": {
      "image/png": "[encoded data removed]",
      "text/plain": [
       "<Figure size 2600x700 with 2 Axes>"
      ]
     },
     "metadata": {},
     "output_type": "display_data"
    }
   ],
   "source": [
    "accuracy_dict_list =list(accuracy_dict.values())\n",
    "accuracy_dict_eu_list =list(accuracy_dict_eu.values())\n",
    "\n",
    "plt.figure(figsize=(26,7), facecolor='pink')\n",
    "plt.subplot(1,2,1)\n",
    "plt.plot(k_values, accuracy_dict_list, label='L1')\n",
    "plt.xlabel(\"K Values\")\n",
    "plt.ylabel(\"Average Accuracy\")\n",
    "plt.title(\"KNN Performance on CIFAR-10 Dataset\")\n",
    "plt.legend()\n",
    "\n",
    "\n",
    "plt.subplot(1,2,2)\n",
    "plt.plot(k_values, accuracy_dict_eu_list, label='L2')\n",
    "plt.xlabel(\"K Values\")\n",
    "plt.ylabel(\"Average Accuracy\")\n",
    "plt.title(\"KNN Performance on CIFAR-10 Dataset\")\n",
    "plt.legend()\n",
    "plt.show()"
   ]
  },
  {
   "cell_type": "markdown",
   "id": "9340a411",
   "metadata": {},
   "source": [
    "Discussion:\n",
    "Based on the accuracy values that we got from here, Manhattan distance tends to work better when dealing with high-dimensional data with many irrelevant features, while Euclidean distance tends to work better when dealing with low-dimensional data with few relevant features. This is because Manhattan distance is less affected by irrelevant features since it only considers the differences along each dimension, whereas Euclidean distance considers the overall distance between points. So in this case Manhattan distance works better as each accuracy is higher than Euclidean distance"
   ]
  }
 ],
 "metadata": {
  "kernelspec": {
   "display_name": "Python 3 (ipykernel)",
   "language": "python",
   "name": "python3"
  },
  "language_info": {
   "codemirror_mode": {
    "name": "ipython",
    "version": 3
   },
   "file_extension": ".py",
   "mimetype": "text/x-python",
   "name": "python",
   "nbconvert_exporter": "python",
   "pygments_lexer": "ipython3",
   "version": "3.9.17"
  }
 },
 "nbformat": 4,
 "nbformat_minor": 5
}
